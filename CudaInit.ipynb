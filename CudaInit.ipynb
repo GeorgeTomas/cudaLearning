{
  "nbformat": 4,
  "nbformat_minor": 0,
  "metadata": {
    "colab": {
      "provenance": [],
      "gpuType": "T4",
      "authorship_tag": "ABX9TyOf4BPjHTB2Aw/87N53doQP",
      "include_colab_link": true
    },
    "kernelspec": {
      "name": "python3",
      "display_name": "Python 3"
    },
    "language_info": {
      "name": "python"
    },
    "accelerator": "GPU"
  },
  "cells": [
    {
      "cell_type": "markdown",
      "metadata": {
        "id": "view-in-github",
        "colab_type": "text"
      },
      "source": [
        "<a href=\"https://colab.research.google.com/github/GeorgeTomas/cudaLearning/blob/main/CudaInit.ipynb\" target=\"_parent\"><img src=\"https://colab.research.google.com/assets/colab-badge.svg\" alt=\"Open In Colab\"/></a>"
      ]
    },
    {
      "cell_type": "code",
      "execution_count": null,
      "metadata": {
        "id": "NC8qMt4RIwcs"
      },
      "outputs": [],
      "source": [
        "# Cuda Init and checks\n",
        "# Edit > Notebook Settings > Select T4 GPU\n",
        "!pwd\n",
        "!ls\n",
        "!which nvcc\n",
        "!ls -l /dev/nv*\n",
        "!mkdir /home/cudaL\n",
        "%cd /home/cudaL\n",
        "!pwd"
      ]
    }
  ]
}