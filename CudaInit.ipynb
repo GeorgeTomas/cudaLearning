{
  "nbformat": 4,
  "nbformat_minor": 0,
  "metadata": {
    "colab": {
      "provenance": [],
      "gpuType": "T4",
      "authorship_tag": "ABX9TyOdPB9shc922zcsDcGdvimc",
      "include_colab_link": true
    },
    "kernelspec": {
      "name": "python3",
      "display_name": "Python 3"
    },
    "language_info": {
      "name": "python"
    },
    "accelerator": "GPU"
  },
  "cells": [
    {
      "cell_type": "markdown",
      "metadata": {
        "id": "view-in-github",
        "colab_type": "text"
      },
      "source": [
        "<a href=\"https://colab.research.google.com/github/GeorgeTomas/cudaLearning/blob/main/CudaInit.ipynb\" target=\"_parent\"><img src=\"https://colab.research.google.com/assets/colab-badge.svg\" alt=\"Open In Colab\"/></a>"
      ]
    },
    {
      "cell_type": "code",
      "execution_count": 1,
      "metadata": {
        "colab": {
          "base_uri": "https://localhost:8080/"
        },
        "id": "NC8qMt4RIwcs",
        "outputId": "c98a6f72-ded3-4b26-ec85-6a1afc57d925"
      },
      "outputs": [
        {
          "output_type": "stream",
          "name": "stdout",
          "text": [
            "/content\n",
            "sample_data\n",
            "/usr/local/cuda/bin/nvcc\n",
            "crw-rw-rw- 1 root root 195,   0 Apr 27 10:47 /dev/nvidia0\n",
            "crw-rw-rw- 1 root root 195, 255 Apr 27 10:47 /dev/nvidiactl\n",
            "crw-rw-rw- 1 root root 242,   0 Apr 27 10:47 /dev/nvidia-uvm\n",
            "crw-rw-rw- 1 root root 242,   1 Apr 27 10:47 /dev/nvidia-uvm-tools\n",
            "\n",
            "/dev/nvidia-caps:\n",
            "total 0\n",
            "cr-------- 1 root root 245, 1 Apr 27 10:47 nvidia-cap1\n",
            "cr--r--r-- 1 root root 245, 2 Apr 27 10:47 nvidia-cap2\n"
          ]
        }
      ],
      "source": [
        "# Cuda Init and checks\n",
        "# Edit > Notebook Settings > Select T4 GPU\n",
        "!pwd\n",
        "!ls\n",
        "!which nvcc\n",
        "!ls -l /dev/nv*"
      ]
    }
  ]
}