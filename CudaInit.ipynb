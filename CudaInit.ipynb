{
  "nbformat": 4,
  "nbformat_minor": 0,
  "metadata": {
    "colab": {
      "provenance": [],
      "authorship_tag": "ABX9TyPqI+Tz1AZDT1LCbL9pK7rx",
      "include_colab_link": true
    },
    "kernelspec": {
      "name": "python3",
      "display_name": "Python 3"
    },
    "language_info": {
      "name": "python"
    }
  },
  "cells": [
    {
      "cell_type": "markdown",
      "metadata": {
        "id": "view-in-github",
        "colab_type": "text"
      },
      "source": [
        "<a href=\"https://colab.research.google.com/github/GeorgeTomas/cudaLearning/blob/main/CudaInit.ipynb\" target=\"_parent\"><img src=\"https://colab.research.google.com/assets/colab-badge.svg\" alt=\"Open In Colab\"/></a>"
      ]
    },
    {
      "cell_type": "code",
      "execution_count": 3,
      "metadata": {
        "colab": {
          "base_uri": "https://localhost:8080/"
        },
        "id": "NC8qMt4RIwcs",
        "outputId": "09998853-15e8-4f35-90e7-da50eacd454f"
      },
      "outputs": [
        {
          "output_type": "stream",
          "name": "stdout",
          "text": [
            "/content\n",
            "sample_data\n",
            "/usr/local/cuda/bin/nvcc\n",
            "ls: cannot access '/dev/nv*': No such file or directory\n"
          ]
        }
      ],
      "source": [
        "# Cuda Init and checks\n",
        "!pwd\n",
        "!ls\n",
        "!which nvcc\n",
        "!ls -l /dev/nv*"
      ]
    }
  ]
}