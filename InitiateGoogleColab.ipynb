{
  "nbformat": 4,
  "nbformat_minor": 0,
  "metadata": {
    "colab": {
      "provenance": [],
      "gpuType": "T4",
      "authorship_tag": "ABX9TyM4n25hj12STTgIDJOoYhr/",
      "include_colab_link": true
    },
    "kernelspec": {
      "name": "python3",
      "display_name": "Python 3"
    },
    "language_info": {
      "name": "python"
    },
    "accelerator": "GPU"
  },
  "cells": [
    {
      "cell_type": "markdown",
      "metadata": {
        "id": "view-in-github",
        "colab_type": "text"
      },
      "source": [
        "<a href=\"https://colab.research.google.com/github/GeorgeTomas/cudaLearning/blob/main/InitiateGoogleColab.ipynb\" target=\"_parent\"><img src=\"https://colab.research.google.com/assets/colab-badge.svg\" alt=\"Open In Colab\"/></a>"
      ]
    },
    {
      "cell_type": "code",
      "execution_count": 3,
      "metadata": {
        "colab": {
          "base_uri": "https://localhost:8080/"
        },
        "id": "Je6npW-hq-sZ",
        "outputId": "d643cc45-fe75-48fb-eb70-d4a6c8e8a14d"
      },
      "outputs": [
        {
          "output_type": "stream",
          "name": "stdout",
          "text": [
            "Mounted at /content/drive\n"
          ]
        }
      ],
      "source": [
        "from google.colab import drive\n",
        "drive.mount('/content/drive')"
      ]
    },
    {
      "cell_type": "code",
      "source": [
        "%cd /content/drive/MyDrive/\n",
        "!mkdir -p cudaLearnings\n",
        "%cd cudaLearnings\n",
        "!pwd\n",
        "!ls"
      ],
      "metadata": {
        "colab": {
          "base_uri": "https://localhost:8080/"
        },
        "id": "bEyBvdKztBkM",
        "outputId": "30dfbda4-d332-49cb-e74a-8c9ee4cbb96d"
      },
      "execution_count": 4,
      "outputs": [
        {
          "output_type": "stream",
          "name": "stdout",
          "text": [
            "/content/drive/MyDrive\n",
            "/content/drive/MyDrive/cudaLearnings\n",
            "/content/drive/MyDrive/cudaLearnings\n",
            "cudaLearning\n"
          ]
        }
      ]
    },
    {
      "cell_type": "code",
      "source": [
        "# !git clone https://github.com/GeorgeTomas/cudaLearning.git"
      ],
      "metadata": {
        "colab": {
          "base_uri": "https://localhost:8080/"
        },
        "id": "4faXtz_ruOfg",
        "outputId": "3ca35ba3-78d2-4b7f-9f35-b0c2b8dfd69a"
      },
      "execution_count": 5,
      "outputs": [
        {
          "output_type": "stream",
          "name": "stdout",
          "text": [
            "fatal: destination path 'cudaLearning' already exists and is not an empty directory.\n"
          ]
        }
      ]
    },
    {
      "cell_type": "code",
      "source": [
        "!ls\n",
        "%cd cudaLearning/\n",
        "!git branch -a"
      ],
      "metadata": {
        "colab": {
          "base_uri": "https://localhost:8080/"
        },
        "id": "H5RzH2WFwUat",
        "outputId": "c24339ac-0ed6-4084-e02c-58040edc5b0a"
      },
      "execution_count": 6,
      "outputs": [
        {
          "output_type": "stream",
          "name": "stdout",
          "text": [
            "cudaLearning\n",
            "/content/drive/MyDrive/cudaLearnings/cudaLearning\n",
            "* \u001b[32mmain\u001b[m\n",
            "  \u001b[31mremotes/origin/HEAD\u001b[m -> origin/main\n",
            "  \u001b[31mremotes/origin/main\u001b[m\n"
          ]
        }
      ]
    },
    {
      "cell_type": "code",
      "source": [
        "!git log\n",
        "!ls -ltr"
      ],
      "metadata": {
        "colab": {
          "base_uri": "https://localhost:8080/"
        },
        "id": "yZacJv1Mwh39",
        "outputId": "f57ea30f-0fc4-4c09-a77d-063c2846a754"
      },
      "execution_count": 7,
      "outputs": [
        {
          "output_type": "stream",
          "name": "stdout",
          "text": [
            "\u001b[33mcommit 06ff0f05f75d3b2fccc032ca52f69206fb220a04\u001b[m\u001b[33m (\u001b[m\u001b[1;36mHEAD -> \u001b[m\u001b[1;32mmain\u001b[m\u001b[33m, \u001b[m\u001b[1;31morigin/main\u001b[m\u001b[33m, \u001b[m\u001b[1;31morigin/HEAD\u001b[m\u001b[33m)\u001b[m\n",
            "Author: GeorgeTomas <167083954+GeorgeTomas@users.noreply.github.com>\n",
            "Date:   Sat Apr 27 11:51:02 2024 +0100\n",
            "\n",
            "    Created using Colab\n",
            "\n",
            "\u001b[33mcommit def781cde4599cc06567426221ae5fa01c42269a\u001b[m\n",
            "Author: GeorgeTomas <167083954+GeorgeTomas@users.noreply.github.com>\n",
            "Date:   Sat Apr 27 11:48:37 2024 +0100\n",
            "\n",
            "    Created using Colab\n",
            "\n",
            "\u001b[33mcommit 8f3e4f38ebeb306238fcac8c45344b9db42f19fa\u001b[m\n",
            "Author: GeorgeTomas <167083954+GeorgeTomas@users.noreply.github.com>\n",
            "Date:   Sat Apr 27 11:47:10 2024 +0100\n",
            "\n",
            "    Created using Colab\n",
            "\n",
            "\u001b[33mcommit b48017acdf0ad904ec8182590e6d0ce0178107ab\u001b[m\n",
            "Author: GeorgeTomas <167083954+GeorgeTomas@users.noreply.github.com>\n",
            "Date:   Sat Apr 27 11:34:11 2024 +0100\n",
            "\n",
            "    Initial commit\n",
            "total 982\n",
            "-rw------- 1 root root     14 Apr 28 08:08 README.md\n",
            "-rw------- 1 root root  35149 Apr 28 08:08 LICENSE\n",
            "-rw------- 1 root root   1224 Apr 28 08:08 CudaInit.ipynb\n",
            "-rw------- 1 root root    179 Apr 28 08:15 helloCuda.cu\n",
            "-rw------- 1 root root 967040 Apr 28 08:17 hello_world\n"
          ]
        }
      ]
    },
    {
      "cell_type": "code",
      "source": [
        "!nvidia-smi\n",
        "!which nvcc\n",
        "!nvcc helloCuda.cu -o hello_world"
      ],
      "metadata": {
        "colab": {
          "base_uri": "https://localhost:8080/"
        },
        "id": "uWKKvLnxxrfB",
        "outputId": "5c40d385-fed6-421f-88b7-7effe91d93fd"
      },
      "execution_count": 8,
      "outputs": [
        {
          "output_type": "stream",
          "name": "stdout",
          "text": [
            "Sun Apr 28 08:20:26 2024       \n",
            "+---------------------------------------------------------------------------------------+\n",
            "| NVIDIA-SMI 535.104.05             Driver Version: 535.104.05   CUDA Version: 12.2     |\n",
            "|-----------------------------------------+----------------------+----------------------+\n",
            "| GPU  Name                 Persistence-M | Bus-Id        Disp.A | Volatile Uncorr. ECC |\n",
            "| Fan  Temp   Perf          Pwr:Usage/Cap |         Memory-Usage | GPU-Util  Compute M. |\n",
            "|                                         |                      |               MIG M. |\n",
            "|=========================================+======================+======================|\n",
            "|   0  Tesla T4                       Off | 00000000:00:04.0 Off |                    0 |\n",
            "| N/A   45C    P8              10W /  70W |      0MiB / 15360MiB |      0%      Default |\n",
            "|                                         |                      |                  N/A |\n",
            "+-----------------------------------------+----------------------+----------------------+\n",
            "                                                                                         \n",
            "+---------------------------------------------------------------------------------------+\n",
            "| Processes:                                                                            |\n",
            "|  GPU   GI   CI        PID   Type   Process name                            GPU Memory |\n",
            "|        ID   ID                                                             Usage      |\n",
            "|=======================================================================================|\n",
            "|  No running processes found                                                           |\n",
            "+---------------------------------------------------------------------------------------+\n",
            "/usr/local/cuda/bin/nvcc\n"
          ]
        }
      ]
    },
    {
      "cell_type": "code",
      "source": [
        "!./hello_world"
      ],
      "metadata": {
        "colab": {
          "base_uri": "https://localhost:8080/"
        },
        "id": "z1I7Zqmox5bB",
        "outputId": "d8c81284-03b1-4d51-b525-bd530de93435"
      },
      "execution_count": 9,
      "outputs": [
        {
          "output_type": "stream",
          "name": "stdout",
          "text": [
            "Hello, CUDA!\n"
          ]
        }
      ]
    },
    {
      "cell_type": "code",
      "source": [
        "!git status"
      ],
      "metadata": {
        "colab": {
          "base_uri": "https://localhost:8080/"
        },
        "id": "U7l7ZkhtzOrh",
        "outputId": "06219837-255a-4f6e-ea12-0f88e77b8fe9"
      },
      "execution_count": 10,
      "outputs": [
        {
          "output_type": "stream",
          "name": "stdout",
          "text": [
            "Refresh index: 100% (3/3), done.\n",
            "On branch main\n",
            "Your branch is up to date with 'origin/main'.\n",
            "\n",
            "Untracked files:\n",
            "  (use \"git add <file>...\" to include in what will be committed)\n",
            "\t\u001b[31mhelloCuda.cu\u001b[m\n",
            "\t\u001b[31mhello_world\u001b[m\n",
            "\n",
            "nothing added to commit but untracked files present (use \"git add\" to track)\n"
          ]
        }
      ]
    },
    {
      "cell_type": "code",
      "source": [
        "#!git config --global user.email \"goroaring@gmail.com\"\n",
        "#!git config --global user.name \"George Thomas\"\n",
        "#!git add helloCuda.cu\n",
        "#!git commit -m \"hello world in CUDA\""
      ],
      "metadata": {
        "colab": {
          "base_uri": "https://localhost:8080/"
        },
        "id": "Z-RptxNEzXZM",
        "outputId": "3b367976-912b-4a34-c0f4-ff259f336449"
      },
      "execution_count": 12,
      "outputs": [
        {
          "output_type": "stream",
          "name": "stdout",
          "text": [
            "[main e27bc8b] hello world in CUDA\n",
            " 1 file changed, 13 insertions(+)\n",
            " create mode 100644 helloCuda.cu\n"
          ]
        }
      ]
    }
  ]
}